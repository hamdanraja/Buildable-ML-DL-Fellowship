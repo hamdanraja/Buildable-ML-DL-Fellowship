{
 "cells": [
  {
   "cell_type": "markdown",
   "id": "bd8e01a2",
   "metadata": {},
   "source": [
    "## Question 2\n"
   ]
  },
  {
   "cell_type": "code",
   "execution_count": 1,
   "id": "5059ced1",
   "metadata": {},
   "outputs": [
    {
     "name": "stdout",
     "output_type": "stream",
     "text": [
      "tuples:  (10, 20, 30)\n",
      "Error in modifying 'tuple' object does not support item assignment\n"
     ]
    }
   ],
   "source": [
    "tuple=(10,20,30)\n",
    "print(\"tuples: \",tuple)\n",
    "try:\n",
    "    tuple[1]=40\n",
    "except TypeError as e:\n",
    "    print(\"Error in modifying\",e)"
   ]
  },
  {
   "cell_type": "code",
   "execution_count": 2,
   "id": "4525d7c3",
   "metadata": {},
   "outputs": [
    {
     "name": "stdout",
     "output_type": "stream",
     "text": [
      "origional list:  [10, 20, 30]\n",
      "modified list:  [10, 40, 30]\n"
     ]
    }
   ],
   "source": [
    "list=[10,20,30]\n",
    "print(\"origional list: \",list)\n",
    "list[1]=40\n",
    "print(\"modified list: \",list)                                                                                                                                               "
   ]
  },
  {
   "cell_type": "code",
   "execution_count": 3,
   "id": "ae01eb69",
   "metadata": {},
   "outputs": [
    {
     "name": "stdout",
     "output_type": "stream",
     "text": [
      "dict:  {'name': 'Hamdan', 'Age': 21}\n",
      "modified dict:  {'name': 'Hamdan', 'Age': 22}\n"
     ]
    }
   ],
   "source": [
    "dict={\"name\":\"Hamdan\",\"Age\":21}\n",
    "print(\"dict: \",dict)\n",
    "dict[\"Age\"]=22\n",
    "print(\"modified dict: \",dict)"
   ]
  },
  {
   "cell_type": "code",
   "execution_count": 4,
   "id": "4182e08e",
   "metadata": {},
   "outputs": [
    {
     "name": "stdout",
     "output_type": "stream",
     "text": [
      "complex tuples:  ([10, 20, 30], [40, 50, 60])\n",
      "modified complex tuples:  ([10, 25, 30], [40, 50, 60])\n"
     ]
    }
   ],
   "source": [
    "complextuples=([10,20,30],[40,50,60])\n",
    "print(\"complex tuples: \",complextuples)\n",
    "complextuples[0][1]=25\n",
    "print(\"modified complex tuples: \",complextuples)"
   ]
  },
  {
   "cell_type": "markdown",
   "id": "9d47cd95",
   "metadata": {},
   "source": [
    "## Question 3\n"
   ]
  },
  {
   "cell_type": "code",
   "execution_count": 6,
   "id": "ea1a991c",
   "metadata": {},
   "outputs": [
    {
     "name": "stdout",
     "output_type": "stream",
     "text": [
      "\n",
      "Welcome Hamdan! Your account has been registered successfully with email m.hamdan.raja.9056@gmail.com\n"
     ]
    }
   ],
   "source": [
    "def valid_name():\n",
    "    name=input(\"Please enter your name:\")\n",
    "    while not name:\n",
    "        print(\"Invalid: Name cannot be empty\")\n",
    "        name=input(\"Please enter your name:\").strip()\n",
    "    return name\n",
    "def valid_age():\n",
    "    age=input(\"Please enter your age:\")\n",
    "    while True:\n",
    "        try:\n",
    "            age=int(age)\n",
    "            if 0<age<100:\n",
    "                return age\n",
    "            else:\n",
    "                print(\"Age must be between 1 and 99\")\n",
    "        except ValueError:\n",
    "            print(\"Invalid: Please enter a valid number for age\")\n",
    "def valid_email():\n",
    "    while True:\n",
    "        email=input(\"Please enter your email:\")\n",
    "        if \"@\" in email and \".\" in email and not email.startswith(\"@\") and not email.endswith(\"@\") and not email.startswith(\".\") and not email.endswith(\"@\"):\n",
    "            return email\n",
    "        else:\n",
    "            print(\"Invalid: Please enter a valid email address\")\n",
    "def valid_fav_number():\n",
    "    while True:\n",
    "        try:\n",
    "            fav_number=float(input(\"Please enter your favorite number:\"))\n",
    "            if 1<=fav_number<=100:\n",
    "                return fav_number\n",
    "            else:\n",
    "                print(\"Favorite number must be between 1 and 100\")\n",
    "        except ValueError:\n",
    "            print(\"Invalid: Please enter a valid number for favorite number\")\n",
    "user_info={}\n",
    "user_info[\"name\"]=valid_name()\n",
    "user_info[\"age\"]=valid_age()\n",
    "user_info[\"email\"]=valid_email()\n",
    "user_info[\"fav_number\"]=valid_fav_number()\n",
    "print(f\"\\nWelcome {user_info['name']}! Your account has been registered successfully with email {user_info['email']}\")\n"
   ]
  },
  {
   "cell_type": "markdown",
   "id": "5cf6fce1",
   "metadata": {},
   "source": [
    "## Question 4"
   ]
  },
  {
   "cell_type": "code",
   "execution_count": 8,
   "id": "260694bc",
   "metadata": {},
   "outputs": [
    {
     "name": "stdout",
     "output_type": "stream",
     "text": [
      "\n",
      "Customer 1:\n",
      "\n",
      "Customer 2:\n",
      "\n",
      "Customer 3:\n",
      "\n",
      "Customer 4:\n",
      "\n",
      "Customer 5:\n",
      "\n",
      "Group Discount Applied: -$5.80\n",
      "\n",
      "--- Ticket Summary ---\n",
      "Customer 1 |Name: Hamdan | Age: 21 | Student: True | Weekend: True | Ticket Price: $11.6\n",
      "Customer 2 |Name: Usman | Age: 22 | Student: True | Weekend: True | Ticket Price: $11.6\n",
      "Customer 3 |Name: Tahir | Age: 21 | Student: True | Weekend: True | Ticket Price: $11.6\n",
      "Customer 4 |Name: Junaid | Age: 21 | Student: True | Weekend: True | Ticket Price: $11.6\n",
      "Customer 5 |Name: Huraira | Age: 21 | Student: True | Weekend: True | Ticket Price: $11.6\n",
      "\n",
      "--- Revenue Report ---\n",
      "Total Revenue: $52.20\n",
      "Highest Paying Customer: Customer 1 - $11.6\n",
      "Lowest Paying Customer: Customer 1 - $11.6\n"
     ]
    }
   ],
   "source": [
    "def ticket_price(age,is_student,is_weekend):\n",
    "    if age < 0 or age > 120:\n",
    "        raise ValueError(\"Age must be between 0 and 120\") \n",
    "    \n",
    "    if age < 12:\n",
    "        price = 5\n",
    "    elif 13 <= age <= 17:\n",
    "        price = 8\n",
    "    elif 18 <= age <= 59:\n",
    "        price = 12\n",
    "    else:  # 60+\n",
    "        price = 6\n",
    "\n",
    "\n",
    "    if is_student and age>12:\n",
    "        price *= 0.8\n",
    "    if is_weekend:\n",
    "        price +=2\n",
    "    return round(price,2)\n",
    "\n",
    "customers=[]\n",
    "total_revenue=0\n",
    "num_customers=int(input(\"Enter number of customers:\"))\n",
    "for i in range(num_customers):\n",
    "    print(f\"\\nCustomer {i+1}:\")\n",
    "    while True:\n",
    "        try:\n",
    "            name=input(\"Name: \").strip()\n",
    "            age = int(input(\"Age: \"))\n",
    "            if age < 0 or age > 120:\n",
    "                raise ValueError\n",
    "            break\n",
    "        except ValueError:\n",
    "            print(\"Invalid age! Please enter an age between 0 and 120.\")\n",
    "    is_student = input(\"Are you a student? (yes/no): \").strip().lower() == \"yes\"\n",
    "    is_weekend = input(\"Is it a weekend show? (yes/no): \").strip().lower() == \"yes\"\n",
    "    price = ticket_price(age, is_student, is_weekend)\n",
    "    total_revenue += price\n",
    "    customers.append({\n",
    "        \"customer_id\": i + 1,\n",
    "        \"name\": name,\n",
    "        \"age\": age,\n",
    "        \"student\": is_student,\n",
    "        \"weekend\": is_weekend,\n",
    "        \"ticket_price\": price\n",
    "    })\n",
    "if num_customers >= 4:\n",
    "    discount = total_revenue * 0.10\n",
    "    total_revenue -= discount\n",
    "    print(f\"\\nGroup Discount Applied: -${discount:.2f}\")\n",
    "\n",
    "print(\"\\n--- Ticket Summary ---\")\n",
    "for c in customers:\n",
    "    print(f\"Customer {c['customer_id']} |Name: {c['name']} | Age: {c['age']} | \"\n",
    "          f\"Student: {c['student']} | Weekend: {c['weekend']} | \"\n",
    "          f\"Ticket Price: ${c['ticket_price']}\")\n",
    "\n",
    "highest = max(customers, key=lambda x: x[\"ticket_price\"])\n",
    "lowest = min(customers, key=lambda x: x[\"ticket_price\"])\n",
    "\n",
    "print(\"\\n--- Revenue Report ---\")\n",
    "print(f\"Total Revenue: ${total_revenue:.2f}\")\n",
    "print(f\"Highest Paying Customer: Customer {highest['customer_id']} - ${highest['ticket_price']}\")\n",
    "print(f\"Lowest Paying Customer: Customer {lowest['customer_id']} - ${lowest['ticket_price']}\")"
   ]
  },
  {
   "cell_type": "markdown",
   "id": "aa1cede0",
   "metadata": {},
   "source": [
    "## Question 5"
   ]
  },
  {
   "cell_type": "code",
   "execution_count": 14,
   "id": "6f965b52",
   "metadata": {},
   "outputs": [
    {
     "name": "stdout",
     "output_type": "stream",
     "text": [
      "\n",
      "--- Weather Alert System ---\n",
      "\n",
      "\n",
      "Heavy snow alert! Stay indoors. (Temp: -2.0°C / 28.4°F / 271.15K)\n"
     ]
    }
   ],
   "source": [
    "def weather_alert(temp_celsius, condition):\n",
    "\n",
    "    condit = condition.strip().lower()\n",
    "    t = temp_celsius\n",
    "    msg = \"Normal weather conditions.\"\n",
    "\n",
    "    if t < 0 and \"snow\" in condit:\n",
    "        msg = \"Heavy snow alert! Stay indoors.\"\n",
    "    elif t > 35 and \"sun\" in condit:\n",
    "        msg = \"Heatwave warning! Stay hydrated.\"\n",
    "    elif \"rain\" in condit and t < 15:\n",
    "        msg = \"Cold rain alert! Wear warm clothes.\"\n",
    "\n",
    "    temp_f = (t * 9/5) + 32\n",
    "    temp_k = t + 273.15\n",
    "\n",
    "    return f\"{msg} (Temp: {t}°C / {round(temp_f,2)}°F / {round(temp_k,2)}K)\"\n",
    "\n",
    "\n",
    "def weather():\n",
    "    print(\"\\n--- Weather Alert System ---\\n\")\n",
    "    try:\n",
    "        t = float(input(\"Enter temperature in Celsius: \").strip())\n",
    "    except ValueError:\n",
    "        print(\" Invalid input. Please enter a number for temperature.\")\n",
    "        return\n",
    "    cond = input(\"Enter weather condition (sunny, rainy, snowy, etc.): \")\n",
    "    print(\"\\n\" + weather_alert(t, cond))\n",
    "\n",
    "weather()\n"
   ]
  },
  {
   "cell_type": "markdown",
   "id": "ce471883",
   "metadata": {},
   "source": [
    "## Question 6"
   ]
  },
  {
   "cell_type": "code",
   "execution_count": 15,
   "id": "8d8f7f7e",
   "metadata": {},
   "outputs": [
    {
     "name": "stdout",
     "output_type": "stream",
     "text": [
      "\n",
      "--- Enter Daily Sales ---\n",
      "\n",
      "Sales Summary\n",
      "Highest sales day: 12000.0\n",
      "Lowest sales day: 100.0\n",
      "Median sales: 400.0\n"
     ]
    }
   ],
   "source": [
    "import statistics\n",
    "\n",
    "def analyze_sales(sales_list):\n",
    "    highest = max(sales_list)\n",
    "    lowest = min(sales_list)\n",
    "    median_val = statistics.median(sales_list)\n",
    "\n",
    "    print(\"\\nSales Summary\")\n",
    "    print(f\"Highest sales day: {highest}\")\n",
    "    print(f\"Lowest sales day: {lowest}\")\n",
    "    print(f\"Median sales: {median_val}\")\n",
    "\n",
    "def sales_input():\n",
    "    print(\"\\n--- Enter Daily Sales ---\")\n",
    "    sales = input(\"Enter at least 5 sales values separated by spaces: \").split()\n",
    "    sales = [float(x) for x in sales]\n",
    "\n",
    "    if len(sales) < 5:\n",
    "        print(\"Please enter at least 5 values.\")\n",
    "        return\n",
    "\n",
    "    analyze_sales(sales)\n",
    "\n",
    "sales_input()\n"
   ]
  },
  {
   "cell_type": "markdown",
   "id": "5c329317",
   "metadata": {},
   "source": [
    "## Question 7"
   ]
  },
  {
   "cell_type": "code",
   "execution_count": 17,
   "id": "8013b045",
   "metadata": {},
   "outputs": [
    {
     "name": "stdout",
     "output_type": "stream",
     "text": [
      "\n",
      "--- Initial Inventory ---\n",
      "laptop: 10\n",
      "phone: 20\n",
      "tablet: 15\n",
      "headphones: 25\n",
      "charger: 30\n",
      "\n",
      "--- Shopping Cart ---\n",
      "\n",
      "--- Updated Inventory ---\n",
      "laptop: 8\n",
      "phone: 19\n",
      "tablet: 15\n",
      "headphones: 25\n",
      "charger: 27\n",
      "\n",
      "Most stocked product: charger (27)\n",
      "Least stocked product: laptop (8)\n"
     ]
    }
   ],
   "source": [
    "def update_inventory(inventory_dict, item, quantity):\n",
    "    if item in inventory_dict:\n",
    "        new_qty = inventory_dict[item] + quantity\n",
    "        if new_qty < 0:\n",
    "            print(f\"Not enough stock for {item}.\")\n",
    "        else:\n",
    "            inventory_dict[item] = new_qty\n",
    "    else:\n",
    "        print(f\"Item '{item}' not found in inventory.\")\n",
    "\n",
    "    return inventory_dict\n",
    "\n",
    "\n",
    "def shopping_system():\n",
    "    inventory = {\n",
    "        \"laptop\": 10,\n",
    "        \"phone\": 20,\n",
    "        \"tablet\": 15,\n",
    "        \"headphones\": 25,\n",
    "        \"charger\": 30\n",
    "    }\n",
    "\n",
    "    print(\"\\n--- Initial Inventory ---\")\n",
    "    for k, v in inventory.items():\n",
    "        print(f\"{k}: {v}\")\n",
    "\n",
    "    print(\"\\n--- Shopping Cart ---\")\n",
    "    for i in range(3):  # user buys 3 items\n",
    "        item = input(f\"Enter item {i+1} to buy: \").lower()\n",
    "        try:\n",
    "            qty = int(input(f\"Enter quantity for {item}: \"))\n",
    "        except ValueError:\n",
    "            print(\"Invalid quantity. Skipping...\")\n",
    "            continue\n",
    "\n",
    "        update_inventory(inventory, item, -qty)\n",
    "\n",
    "    print(\"\\n--- Updated Inventory ---\")\n",
    "    for k, v in inventory.items():\n",
    "        print(f\"{k}: {v}\")\n",
    "\n",
    "    most_stocked = max(inventory, key=inventory.get)\n",
    "    least_stocked = min(inventory, key=inventory.get)\n",
    "\n",
    "    print(f\"\\nMost stocked product: {most_stocked} ({inventory[most_stocked]})\")\n",
    "    print(f\"Least stocked product: {least_stocked} ({inventory[least_stocked]})\")\n",
    "\n",
    "shopping_system()\n"
   ]
  },
  {
   "cell_type": "code",
   "execution_count": null,
   "id": "590dd00f",
   "metadata": {},
   "outputs": [],
   "source": []
  }
 ],
 "metadata": {
  "kernelspec": {
   "display_name": "base",
   "language": "python",
   "name": "python3"
  },
  "language_info": {
   "codemirror_mode": {
    "name": "ipython",
    "version": 3
   },
   "file_extension": ".py",
   "mimetype": "text/x-python",
   "name": "python",
   "nbconvert_exporter": "python",
   "pygments_lexer": "ipython3",
   "version": "3.11.5"
  }
 },
 "nbformat": 4,
 "nbformat_minor": 5
}
