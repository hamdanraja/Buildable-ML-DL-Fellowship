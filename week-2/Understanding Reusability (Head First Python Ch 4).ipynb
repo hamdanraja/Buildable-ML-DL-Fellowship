{
 "cells": [
  {
   "cell_type": "code",
   "execution_count": 24,
   "id": "12683148",
   "metadata": {},
   "outputs": [
    {
     "name": "stdout",
     "output_type": "stream",
     "text": [
      "alice\n",
      "donald\n",
      "hello\n"
     ]
    }
   ],
   "source": [
    "magicians=['alice','donald','hello']\n",
    "for magician in magicians:\n",
    "    print(magician)"
   ]
  },
  {
   "cell_type": "code",
   "execution_count": 25,
   "id": "9e1e4775",
   "metadata": {},
   "outputs": [
    {
     "name": "stdout",
     "output_type": "stream",
     "text": [
      "Alice,thats a great trick\n",
      "Donald,thats a great trick\n",
      "Hello,thats a great trick\n"
     ]
    }
   ],
   "source": [
    "magicians=['alice','donald','hello']\n",
    "for magician in magicians:\n",
    "    print(magician.title() +\",thats a great trick\")"
   ]
  },
  {
   "cell_type": "code",
   "execution_count": 26,
   "id": "01b6aa6c",
   "metadata": {},
   "outputs": [
    {
     "name": "stdout",
     "output_type": "stream",
     "text": [
      "i cant wait to see your trick,Alice.\n",
      "\n",
      "i cant wait to see your trick,Donald.\n",
      "\n",
      "i cant wait to see your trick,Hello.\n",
      "\n"
     ]
    }
   ],
   "source": [
    "magicians=['alice','donald','hello']\n",
    "for magician in magicians:\n",
    "    print(\"i cant wait to see your trick,\" + magician.title() +\".\\n\")"
   ]
  },
  {
   "cell_type": "code",
   "execution_count": 27,
   "id": "c42ff5f2",
   "metadata": {},
   "outputs": [
    {
     "name": "stdout",
     "output_type": "stream",
     "text": [
      "Alice,thats a great trick\n",
      "i cant wait to see your trick,Alice.\n",
      "\n",
      "thankyou everyone,that was a great magic show\n",
      "Donald,thats a great trick\n",
      "i cant wait to see your trick,Donald.\n",
      "\n",
      "thankyou everyone,that was a great magic show\n",
      "Hello,thats a great trick\n",
      "i cant wait to see your trick,Hello.\n",
      "\n",
      "thankyou everyone,that was a great magic show\n"
     ]
    }
   ],
   "source": [
    "magicians=['alice','donald','hello']\n",
    "for magician in magicians:\n",
    "    print(magician.title() +\",thats a great trick\")\n",
    "    print(\"i cant wait to see your trick,\" + magician.title() +\".\\n\")\n",
    "    print(\"thankyou everyone,that was a great magic show\")"
   ]
  },
  {
   "cell_type": "code",
   "execution_count": 28,
   "id": "71a39b24",
   "metadata": {},
   "outputs": [
    {
     "name": "stdout",
     "output_type": "stream",
     "text": [
      "BBQ\n",
      "Bbq pizza ,Thats too tasty\n",
      "i really love the taste of Bbq pizza\n",
      "\n",
      "I will Try again and again\n",
      "Chicken\n",
      "Chicken pizza ,Thats too tasty\n",
      "i really love the taste of Chicken pizza\n",
      "\n",
      "I will Try again and again\n",
      "Pepperoni\n",
      "Pepperoni pizza ,Thats too tasty\n",
      "i really love the taste of Pepperoni pizza\n",
      "\n",
      "I will Try again and again\n"
     ]
    }
   ],
   "source": [
    "pizzas=['BBQ','Chicken','Pepperoni']\n",
    "for pizza in pizzas:\n",
    "    print(pizza)\n",
    "    print(pizza.title() +\" pizza ,Thats too tasty\")\n",
    "    print(\"i really love the taste of \" + pizza.title() + \" pizza\\n\")\n",
    "    print(\"I will Try again and again\")"
   ]
  },
  {
   "cell_type": "code",
   "execution_count": null,
   "id": "47683b69",
   "metadata": {},
   "outputs": [],
   "source": []
  },
  {
   "cell_type": "markdown",
   "id": "be714ccb",
   "metadata": {},
   "source": [
    "## Making Numerical Lists"
   ]
  },
  {
   "cell_type": "code",
   "execution_count": 29,
   "id": "ea117f71",
   "metadata": {},
   "outputs": [
    {
     "name": "stdout",
     "output_type": "stream",
     "text": [
      "1\n",
      "2\n",
      "3\n",
      "4\n"
     ]
    }
   ],
   "source": [
    "for value in range(1,5):\n",
    "    print(value)"
   ]
  },
  {
   "cell_type": "code",
   "execution_count": 30,
   "id": "8564da51",
   "metadata": {},
   "outputs": [
    {
     "name": "stdout",
     "output_type": "stream",
     "text": [
      "1\n",
      "2\n",
      "3\n",
      "4\n",
      "5\n"
     ]
    }
   ],
   "source": [
    " for value in range(1,6):\n",
    "    print(value)"
   ]
  },
  {
   "cell_type": "code",
   "execution_count": 31,
   "id": "109fe936",
   "metadata": {},
   "outputs": [
    {
     "name": "stdout",
     "output_type": "stream",
     "text": [
      "[1, 2, 3, 4, 5]\n"
     ]
    }
   ],
   "source": [
    "no=list(range(1,6))\n",
    "print(no)"
   ]
  },
  {
   "cell_type": "code",
   "execution_count": 32,
   "id": "3ed35d28",
   "metadata": {},
   "outputs": [
    {
     "name": "stdout",
     "output_type": "stream",
     "text": [
      "[2, 4, 6, 8, 10]\n"
     ]
    }
   ],
   "source": [
    "even =list(range(2,11,2))\n",
    "print(even)"
   ]
  },
  {
   "cell_type": "code",
   "execution_count": 34,
   "id": "73e82e87",
   "metadata": {},
   "outputs": [
    {
     "name": "stdout",
     "output_type": "stream",
     "text": [
      "[1, 3, 5, 7, 9, 11, 13, 15, 17, 19]\n",
      "None\n"
     ]
    }
   ],
   "source": [
    "odd=print(list(range(1,20,2)))\n",
    "print(odd)"
   ]
  },
  {
   "cell_type": "code",
   "execution_count": 40,
   "id": "3905383e",
   "metadata": {},
   "outputs": [
    {
     "name": "stdout",
     "output_type": "stream",
     "text": [
      "[1, 4, 9, 16, 25, 36, 49, 64, 81, 100]\n"
     ]
    }
   ],
   "source": [
    "squares=[]\n",
    "for value in range(1,11):\n",
    "    square=value**2\n",
    "    squares.append(square)\n",
    "print(squares)"
   ]
  },
  {
   "cell_type": "code",
   "execution_count": 42,
   "id": "f09f67fc",
   "metadata": {},
   "outputs": [
    {
     "name": "stdout",
     "output_type": "stream",
     "text": [
      "[1, 4, 9, 16, 25, 36, 49, 64, 81, 100]\n"
     ]
    }
   ],
   "source": [
    "squares = []\n",
    "for value in range(1,11):\n",
    "    squares.append(value**2)\n",
    "print(squares)"
   ]
  },
  {
   "cell_type": "code",
   "execution_count": 43,
   "id": "9275d4c7",
   "metadata": {},
   "outputs": [
    {
     "name": "stdout",
     "output_type": "stream",
     "text": [
      "[1, 4, 9, 16, 25, 36, 49, 64, 81, 100]\n"
     ]
    }
   ],
   "source": [
    "squares = [value**2 for value in range(1,11)]\n",
    "\n",
    "print(squares)"
   ]
  },
  {
   "cell_type": "code",
   "execution_count": 44,
   "id": "f29e0043",
   "metadata": {},
   "outputs": [
    {
     "name": "stdout",
     "output_type": "stream",
     "text": [
      "[1, 8, 27, 64, 125, 216, 343, 512, 729, 1000]\n"
     ]
    }
   ],
   "source": [
    "sq=[value**3 for value in range(1,11)]\n",
    "print(sq)"
   ]
  },
  {
   "cell_type": "code",
   "execution_count": 45,
   "id": "95e97dd2",
   "metadata": {},
   "outputs": [
    {
     "name": "stdout",
     "output_type": "stream",
     "text": [
      "['charles', 'martina', 'michael']\n"
     ]
    }
   ],
   "source": [
    "players = ['charles', 'martina', 'michael', 'florence', 'eli']\n",
    "print(players[0:3])"
   ]
  },
  {
   "cell_type": "code",
   "execution_count": 46,
   "id": "8639c9fb",
   "metadata": {},
   "outputs": [
    {
     "name": "stdout",
     "output_type": "stream",
     "text": [
      "['martina', 'michael', 'florence']\n"
     ]
    }
   ],
   "source": [
    "players = ['charles', 'martina', 'michael', 'florence', 'eli']\n",
    "print(players[1:4])"
   ]
  },
  {
   "cell_type": "code",
   "execution_count": 47,
   "id": "686312a3",
   "metadata": {},
   "outputs": [
    {
     "name": "stdout",
     "output_type": "stream",
     "text": [
      "['charles', 'martina', 'michael', 'florence']\n"
     ]
    }
   ],
   "source": [
    "players = ['charles', 'martina', 'michael', 'florence', 'eli']\n",
    "print(players[:4])"
   ]
  },
  {
   "cell_type": "code",
   "execution_count": 48,
   "id": "27a51b59",
   "metadata": {},
   "outputs": [
    {
     "name": "stdout",
     "output_type": "stream",
     "text": [
      "['charles', 'martina', 'michael', 'florence', 'eli']\n"
     ]
    }
   ],
   "source": [
    "players = ['charles', 'martina', 'michael', 'florence', 'eli']\n",
    "print(players[0:])"
   ]
  },
  {
   "cell_type": "code",
   "execution_count": 49,
   "id": "d58dcf7f",
   "metadata": {},
   "outputs": [
    {
     "name": "stdout",
     "output_type": "stream",
     "text": [
      "['michael', 'florence', 'eli']\n"
     ]
    }
   ],
   "source": [
    "players = ['charles', 'martina', 'michael', 'florence', 'eli']\n",
    "print(players[-3:])"
   ]
  },
  {
   "cell_type": "code",
   "execution_count": 52,
   "id": "0a2c9502",
   "metadata": {},
   "outputs": [
    {
     "name": "stdout",
     "output_type": "stream",
     "text": [
      "Here are the first three players on my team:\n",
      "Charles\n",
      "Martina\n",
      "Michael\n"
     ]
    }
   ],
   "source": [
    "players = ['charles', 'martina', 'michael', 'florence', 'eli']\n",
    "print(\"Here are the first three players on my team:\")\n",
    "for player in players[:3]:\n",
    "    print(player.title())"
   ]
  },
  {
   "cell_type": "code",
   "execution_count": 54,
   "id": "64f12ee0",
   "metadata": {},
   "outputs": [
    {
     "name": "stdout",
     "output_type": "stream",
     "text": [
      "My favorite foods are:\n",
      "['pizza', 'falafel', 'carrot cake']\n",
      "\n",
      "My friend's favorite foods are:\n",
      "['pizza', 'falafel', 'carrot cake']\n"
     ]
    }
   ],
   "source": [
    "my_foods = ['pizza', 'falafel', 'carrot cake']\n",
    "friend_foods = my_foods[:]\n",
    "print(\"My favorite foods are:\")\n",
    "print(my_foods)\n",
    "print(\"\\nMy friend's favorite foods are:\")\n",
    "print(friend_foods)"
   ]
  },
  {
   "cell_type": "code",
   "execution_count": 55,
   "id": "c612e0be",
   "metadata": {},
   "outputs": [
    {
     "name": "stdout",
     "output_type": "stream",
     "text": [
      "My favorite foods are:\n",
      "['pizza', 'falafel', 'carrot cake', 'cannoli']\n",
      "\n",
      "My friend's favorite foods are:\n",
      "['pizza', 'falafel', 'carrot cake', 'ice cream']\n"
     ]
    }
   ],
   "source": [
    "my_foods = ['pizza', 'falafel', 'carrot cake']\n",
    "friend_foods = my_foods[:]\n",
    "my_foods.append('cannoli')\n",
    "friend_foods.append('ice cream')\n",
    "print(\"My favorite foods are:\")\n",
    "print(my_foods)\n",
    "print(\"\\nMy friend's favorite foods are:\")\n",
    "print(friend_foods)"
   ]
  },
  {
   "cell_type": "code",
   "execution_count": 58,
   "id": "0be1929d",
   "metadata": {},
   "outputs": [
    {
     "name": "stdout",
     "output_type": "stream",
     "text": [
      "['a', 'b', 'c']\n"
     ]
    }
   ],
   "source": [
    "list=['a','b','c','d','e','f']\n",
    "print(list[0:3])"
   ]
  },
  {
   "cell_type": "code",
   "execution_count": 59,
   "id": "fb298e62",
   "metadata": {},
   "outputs": [
    {
     "name": "stdout",
     "output_type": "stream",
     "text": [
      "['c', 'd', 'e']\n"
     ]
    }
   ],
   "source": [
    "list=['a','b','c','d','e','f']\n",
    "print(list[2:5])"
   ]
  },
  {
   "cell_type": "code",
   "execution_count": 60,
   "id": "25ddc954",
   "metadata": {},
   "outputs": [
    {
     "name": "stdout",
     "output_type": "stream",
     "text": [
      "['d', 'e', 'f']\n"
     ]
    }
   ],
   "source": [
    "list=['a','b','c','d','e','f']\n",
    "print(list[-3:])"
   ]
  },
  {
   "cell_type": "code",
   "execution_count": 61,
   "id": "c54c2440",
   "metadata": {},
   "outputs": [
    {
     "name": "stdout",
     "output_type": "stream",
     "text": [
      "My favorite pizzas are:\n",
      "['BBQ', 'Chicken', 'Pepperoni', 'Fajita']\n",
      "\n",
      "My friend's favorite pizzas are:\n",
      "['BBQ', 'Chicken', 'Pepperoni', 'Hawaiian']\n"
     ]
    }
   ],
   "source": [
    "pizzas=['BBQ','Chicken','Pepperoni']\n",
    "friend_pizza=pizzas[:]\n",
    "pizzas.append('Fajita')\n",
    "friend_pizza.append('Hawaiian')\n",
    "print(\"My favorite pizzas are:\")\n",
    "print(pizzas)\n",
    "print(\"\\nMy friend's favorite pizzas are:\")\n",
    "print(friend_pizza)"
   ]
  },
  {
   "cell_type": "code",
   "execution_count": 62,
   "id": "c49f3740",
   "metadata": {},
   "outputs": [
    {
     "name": "stdout",
     "output_type": "stream",
     "text": [
      "200\n",
      "50\n"
     ]
    }
   ],
   "source": [
    "dimensions = (200, 50)\n",
    "print(dimensions[0])\n",
    "print(dimensions[1])"
   ]
  },
  {
   "cell_type": "code",
   "execution_count": 64,
   "id": "5cab0e59",
   "metadata": {},
   "outputs": [
    {
     "name": "stdout",
     "output_type": "stream",
     "text": [
      "Original dimensions:\n",
      "200\n",
      "50\n",
      "\n",
      "Modified dimensions:\n",
      "400\n",
      "100\n"
     ]
    }
   ],
   "source": [
    "dimensions = (200, 50)\n",
    "print(\"Original dimensions:\")\n",
    "for dimension in dimensions:\n",
    "    print(dimension)\n",
    "dimensions = (400, 100)\n",
    "print(\"\\nModified dimensions:\")\n",
    "for dimension in dimensions:\n",
    "    print(dimension)"
   ]
  },
  {
   "cell_type": "code",
   "execution_count": 68,
   "id": "b1ab0192",
   "metadata": {},
   "outputs": [
    {
     "name": "stdout",
     "output_type": "stream",
     "text": [
      "('KFC', 'McD', 'Subway', 'PizzaHut', 'Domino')\n",
      "('KFC', 'McD', 'Subway', 'PizzaHut', 'Tehzeeb')\n"
     ]
    }
   ],
   "source": [
    "resturants = ('KFC', 'McD', 'Subway', 'PizzaHut', 'Domino')\n",
    "print(resturants)\n",
    "modifiedresturants = ('KFC', 'McD', 'Subway', 'PizzaHut', 'Tehzeeb')\n",
    "print(modifiedresturants)"
   ]
  },
  {
   "cell_type": "code",
   "execution_count": null,
   "id": "183c73ef",
   "metadata": {},
   "outputs": [],
   "source": []
  }
 ],
 "metadata": {
  "kernelspec": {
   "display_name": "base",
   "language": "python",
   "name": "python3"
  },
  "language_info": {
   "codemirror_mode": {
    "name": "ipython",
    "version": 3
   },
   "file_extension": ".py",
   "mimetype": "text/x-python",
   "name": "python",
   "nbconvert_exporter": "python",
   "pygments_lexer": "ipython3",
   "version": "3.11.5"
  }
 },
 "nbformat": 4,
 "nbformat_minor": 5
}
